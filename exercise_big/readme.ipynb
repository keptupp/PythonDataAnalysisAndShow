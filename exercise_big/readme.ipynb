{
 "cells": [
  {
   "cell_type": "markdown",
   "metadata": {},
   "source": [
    "# 抗乳腺癌候选药物的优化建模\n",
    "## 数据集介绍\n",
    "### ERα_activity.xlsx\n",
    "1974个化合物的分子活性  \n",
    "第一列是结构式  \n",
    "第二列是化合物对ERα的生物活性，IC50表示，为实验测定值，单位是nM，值越小代表生物活性越大  \n",
    "第三列是将第二列IC50值转化而得的pIC50（即IC50值的负对数，该值通常与生物活性具有正相关性，即pIC50值越大表明生物活性越高  \n",
    "一般情况下我们取pIC50作为标签\n",
    "### Molecular_Descriptor.xlsx\n",
    "给出了上述1974个化合物的729个分子描述符信息（即自变量）\n",
    "### ADMET.xlsx\n",
    "提供了上述1974个化合物的5种ADMET性质的数据  \n",
    "其后5列分别对应每个化合物的ADMET性质  \n",
    "* Caco-2：‘1’代表该化合物的小肠上皮细胞渗透性较好，‘0’代表该化合物的小肠上皮细胞渗透性较差  \n",
    "* CYP3A4：‘1’代表该化合物能够被CYP3A4代谢，‘0’代表该化合物不能被CYP3A4代谢  \n",
    "* hERG：‘1’代表该化合物具有心脏毒性，‘0’代表该化合物不具有心脏毒性  \n",
    "* HOB：‘1’代表该化合物的口服生物利用度较好，‘0’代表该化合物的口服生物利用度较差  \n",
    "* MN：‘1’代表该化合物具有遗传毒性，‘0’代表该化合物不具有遗传毒性。\n",
    "## 问题\n",
    "### 问题一\n",
    "根据文件“Molecular_Descriptor.xlsx”和“ERα_activity.xlsx”提供的数据，  \n",
    "针对1974个化合物的729个分子描述符进行变量选择，根据变量对生物活性影响的重要性进行排序，  \n",
    "并给出前20个对生物活性最具有显著影响的分子描述符（即变量），  \n",
    "并请详细说明分子描述符筛选过程及其合理性。\n",
    "### 问题二\n",
    "请结合问题1，选择不超过20个分子描述符变量，构建化合物对ERα生物活性的定量预测模型，请叙述建模过程。  \n",
    "然后使用构建的预测模型，对文件“ERα_activity.xlsx”的test表中的50个化合物进行IC50值和对应的pIC50值预测，  \n",
    "并将结果分别填入“ERα_activity.xlsx”的test表中的IC50_nM列及对应的pIC50列。"
   ]
  }
 ],
 "metadata": {
  "kernelspec": {
   "display_name": "Python 3.10.4 64-bit",
   "language": "python",
   "name": "python3"
  },
  "language_info": {
   "name": "python",
   "version": "3.10.4"
  },
  "orig_nbformat": 4,
  "vscode": {
   "interpreter": {
    "hash": "08f6edec437538b5993be24a8d19dd1bd66f0a7ae79d727201cebd80cd580c21"
   }
  }
 },
 "nbformat": 4,
 "nbformat_minor": 2
}
