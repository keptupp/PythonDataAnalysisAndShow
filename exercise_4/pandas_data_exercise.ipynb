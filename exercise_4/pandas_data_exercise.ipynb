{
 "cells": [
  {
   "cell_type": "markdown",
   "metadata": {},
   "source": [
    "# pandas的使用实训4"
   ]
  },
  {
   "cell_type": "code",
   "execution_count": 130,
   "metadata": {},
   "outputs": [],
   "source": [
    "import pandas as pd\n",
    "import matplotlib.pyplot as plt\n",
    "import numpy as np\n",
    "plt.rcParams['font.sans-serif']=['SimHei']"
   ]
  },
  {
   "cell_type": "code",
   "execution_count": 131,
   "metadata": {},
   "outputs": [
    {
     "data": {
      "text/html": [
       "<div>\n",
       "<style scoped>\n",
       "    .dataframe tbody tr th:only-of-type {\n",
       "        vertical-align: middle;\n",
       "    }\n",
       "\n",
       "    .dataframe tbody tr th {\n",
       "        vertical-align: top;\n",
       "    }\n",
       "\n",
       "    .dataframe thead th {\n",
       "        text-align: right;\n",
       "    }\n",
       "</style>\n",
       "<table border=\"1\" class=\"dataframe\">\n",
       "  <thead>\n",
       "    <tr style=\"text-align: right;\">\n",
       "      <th></th>\n",
       "      <th>total_bill</th>\n",
       "      <th>tip</th>\n",
       "      <th>sex</th>\n",
       "      <th>smoker</th>\n",
       "      <th>day</th>\n",
       "      <th>time</th>\n",
       "      <th>size</th>\n",
       "    </tr>\n",
       "  </thead>\n",
       "  <tbody>\n",
       "    <tr>\n",
       "      <th>0</th>\n",
       "      <td>16.99</td>\n",
       "      <td>1.01</td>\n",
       "      <td>Female</td>\n",
       "      <td>No</td>\n",
       "      <td>Sun</td>\n",
       "      <td>Dinner</td>\n",
       "      <td>2</td>\n",
       "    </tr>\n",
       "    <tr>\n",
       "      <th>1</th>\n",
       "      <td>10.34</td>\n",
       "      <td>1.66</td>\n",
       "      <td>Male</td>\n",
       "      <td>No</td>\n",
       "      <td>Sun</td>\n",
       "      <td>Dinner</td>\n",
       "      <td>3</td>\n",
       "    </tr>\n",
       "    <tr>\n",
       "      <th>2</th>\n",
       "      <td>21.01</td>\n",
       "      <td>3.50</td>\n",
       "      <td>Male</td>\n",
       "      <td>No</td>\n",
       "      <td>Sun</td>\n",
       "      <td>Dinner</td>\n",
       "      <td>3</td>\n",
       "    </tr>\n",
       "    <tr>\n",
       "      <th>3</th>\n",
       "      <td>23.68</td>\n",
       "      <td>3.31</td>\n",
       "      <td>Male</td>\n",
       "      <td>No</td>\n",
       "      <td>Sun</td>\n",
       "      <td>Dinner</td>\n",
       "      <td>2</td>\n",
       "    </tr>\n",
       "    <tr>\n",
       "      <th>4</th>\n",
       "      <td>24.59</td>\n",
       "      <td>3.61</td>\n",
       "      <td>Female</td>\n",
       "      <td>No</td>\n",
       "      <td>Sun</td>\n",
       "      <td>Dinner</td>\n",
       "      <td>4</td>\n",
       "    </tr>\n",
       "  </tbody>\n",
       "</table>\n",
       "</div>"
      ],
      "text/plain": [
       "   total_bill   tip     sex smoker  day    time  size\n",
       "0       16.99  1.01  Female     No  Sun  Dinner     2\n",
       "1       10.34  1.66    Male     No  Sun  Dinner     3\n",
       "2       21.01  3.50    Male     No  Sun  Dinner     3\n",
       "3       23.68  3.31    Male     No  Sun  Dinner     2\n",
       "4       24.59  3.61  Female     No  Sun  Dinner     4"
      ]
     },
     "execution_count": 131,
     "metadata": {},
     "output_type": "execute_result"
    }
   ],
   "source": [
    "data=pd.read_excel(\"./tips.xls\")\n",
    "data.head()"
   ]
  },
  {
   "cell_type": "markdown",
   "metadata": {},
   "source": [
    "### （1）查看数据描述信息"
   ]
  },
  {
   "cell_type": "code",
   "execution_count": 132,
   "metadata": {},
   "outputs": [
    {
     "data": {
      "text/html": [
       "<div>\n",
       "<style scoped>\n",
       "    .dataframe tbody tr th:only-of-type {\n",
       "        vertical-align: middle;\n",
       "    }\n",
       "\n",
       "    .dataframe tbody tr th {\n",
       "        vertical-align: top;\n",
       "    }\n",
       "\n",
       "    .dataframe thead th {\n",
       "        text-align: right;\n",
       "    }\n",
       "</style>\n",
       "<table border=\"1\" class=\"dataframe\">\n",
       "  <thead>\n",
       "    <tr style=\"text-align: right;\">\n",
       "      <th></th>\n",
       "      <th>total_bill</th>\n",
       "      <th>tip</th>\n",
       "      <th>size</th>\n",
       "    </tr>\n",
       "  </thead>\n",
       "  <tbody>\n",
       "    <tr>\n",
       "      <th>count</th>\n",
       "      <td>244.000000</td>\n",
       "      <td>244.000000</td>\n",
       "      <td>244.000000</td>\n",
       "    </tr>\n",
       "    <tr>\n",
       "      <th>mean</th>\n",
       "      <td>19.785943</td>\n",
       "      <td>2.998279</td>\n",
       "      <td>2.569672</td>\n",
       "    </tr>\n",
       "    <tr>\n",
       "      <th>std</th>\n",
       "      <td>8.902412</td>\n",
       "      <td>1.383638</td>\n",
       "      <td>0.951100</td>\n",
       "    </tr>\n",
       "    <tr>\n",
       "      <th>min</th>\n",
       "      <td>3.070000</td>\n",
       "      <td>1.000000</td>\n",
       "      <td>1.000000</td>\n",
       "    </tr>\n",
       "    <tr>\n",
       "      <th>25%</th>\n",
       "      <td>13.347500</td>\n",
       "      <td>2.000000</td>\n",
       "      <td>2.000000</td>\n",
       "    </tr>\n",
       "    <tr>\n",
       "      <th>50%</th>\n",
       "      <td>17.795000</td>\n",
       "      <td>2.900000</td>\n",
       "      <td>2.000000</td>\n",
       "    </tr>\n",
       "    <tr>\n",
       "      <th>75%</th>\n",
       "      <td>24.127500</td>\n",
       "      <td>3.562500</td>\n",
       "      <td>3.000000</td>\n",
       "    </tr>\n",
       "    <tr>\n",
       "      <th>max</th>\n",
       "      <td>50.810000</td>\n",
       "      <td>10.000000</td>\n",
       "      <td>6.000000</td>\n",
       "    </tr>\n",
       "  </tbody>\n",
       "</table>\n",
       "</div>"
      ],
      "text/plain": [
       "       total_bill         tip        size\n",
       "count  244.000000  244.000000  244.000000\n",
       "mean    19.785943    2.998279    2.569672\n",
       "std      8.902412    1.383638    0.951100\n",
       "min      3.070000    1.000000    1.000000\n",
       "25%     13.347500    2.000000    2.000000\n",
       "50%     17.795000    2.900000    2.000000\n",
       "75%     24.127500    3.562500    3.000000\n",
       "max     50.810000   10.000000    6.000000"
      ]
     },
     "execution_count": 132,
     "metadata": {},
     "output_type": "execute_result"
    }
   ],
   "source": [
    "data.describe()"
   ]
  },
  {
   "cell_type": "markdown",
   "metadata": {},
   "source": [
    "### （2）修改列名为汉字，并显示前五行"
   ]
  },
  {
   "cell_type": "code",
   "execution_count": 133,
   "metadata": {},
   "outputs": [
    {
     "data": {
      "text/html": [
       "<div>\n",
       "<style scoped>\n",
       "    .dataframe tbody tr th:only-of-type {\n",
       "        vertical-align: middle;\n",
       "    }\n",
       "\n",
       "    .dataframe tbody tr th {\n",
       "        vertical-align: top;\n",
       "    }\n",
       "\n",
       "    .dataframe thead th {\n",
       "        text-align: right;\n",
       "    }\n",
       "</style>\n",
       "<table border=\"1\" class=\"dataframe\">\n",
       "  <thead>\n",
       "    <tr style=\"text-align: right;\">\n",
       "      <th></th>\n",
       "      <th>账单总额</th>\n",
       "      <th>小费</th>\n",
       "      <th>性别</th>\n",
       "      <th>是否抽烟</th>\n",
       "      <th>星期</th>\n",
       "      <th>三餐</th>\n",
       "      <th>大小</th>\n",
       "    </tr>\n",
       "  </thead>\n",
       "  <tbody>\n",
       "    <tr>\n",
       "      <th>0</th>\n",
       "      <td>16.99</td>\n",
       "      <td>1.01</td>\n",
       "      <td>Female</td>\n",
       "      <td>No</td>\n",
       "      <td>Sun</td>\n",
       "      <td>Dinner</td>\n",
       "      <td>2</td>\n",
       "    </tr>\n",
       "    <tr>\n",
       "      <th>1</th>\n",
       "      <td>10.34</td>\n",
       "      <td>1.66</td>\n",
       "      <td>Male</td>\n",
       "      <td>No</td>\n",
       "      <td>Sun</td>\n",
       "      <td>Dinner</td>\n",
       "      <td>3</td>\n",
       "    </tr>\n",
       "    <tr>\n",
       "      <th>2</th>\n",
       "      <td>21.01</td>\n",
       "      <td>3.50</td>\n",
       "      <td>Male</td>\n",
       "      <td>No</td>\n",
       "      <td>Sun</td>\n",
       "      <td>Dinner</td>\n",
       "      <td>3</td>\n",
       "    </tr>\n",
       "    <tr>\n",
       "      <th>3</th>\n",
       "      <td>23.68</td>\n",
       "      <td>3.31</td>\n",
       "      <td>Male</td>\n",
       "      <td>No</td>\n",
       "      <td>Sun</td>\n",
       "      <td>Dinner</td>\n",
       "      <td>2</td>\n",
       "    </tr>\n",
       "    <tr>\n",
       "      <th>4</th>\n",
       "      <td>24.59</td>\n",
       "      <td>3.61</td>\n",
       "      <td>Female</td>\n",
       "      <td>No</td>\n",
       "      <td>Sun</td>\n",
       "      <td>Dinner</td>\n",
       "      <td>4</td>\n",
       "    </tr>\n",
       "  </tbody>\n",
       "</table>\n",
       "</div>"
      ],
      "text/plain": [
       "    账单总额    小费      性别 是否抽烟   星期      三餐  大小\n",
       "0  16.99  1.01  Female   No  Sun  Dinner   2\n",
       "1  10.34  1.66    Male   No  Sun  Dinner   3\n",
       "2  21.01  3.50    Male   No  Sun  Dinner   3\n",
       "3  23.68  3.31    Male   No  Sun  Dinner   2\n",
       "4  24.59  3.61  Female   No  Sun  Dinner   4"
      ]
     },
     "execution_count": 133,
     "metadata": {},
     "output_type": "execute_result"
    }
   ],
   "source": [
    "data.columns=[\"账单总额\",\"小费\",\"性别\",\"是否抽烟\",\"星期\",\"三餐\",\"大小\"]\n",
    "data.head()"
   ]
  },
  {
   "cell_type": "markdown",
   "metadata": {},
   "source": [
    "### （3）分析小费金额和总金额的关系（散点图）"
   ]
  },
  {
   "cell_type": "code",
   "execution_count": 134,
   "metadata": {},
   "outputs": [
    {
     "data": {
      "image/png": "[encoded data removed]",
      "text/plain": [
       "<Figure size 640x480 with 1 Axes>"
      ]
     },
     "metadata": {},
     "output_type": "display_data"
    }
   ],
   "source": [
    "plt.scatter(data[\"小费\"],data[\"账单总额\"])\n",
    "plt.xlabel(\"小费金额\")\n",
    "plt.ylabel(\"账单总额\")\n",
    "plt.title(\"小费金额与总金额关系散点图\")\n",
    "plt.show()"
   ]
  },
  {
   "cell_type": "markdown",
   "metadata": {},
   "source": [
    "观察图片可知，小费金额与账单总额有较为强烈额线性关系，小费金额越高则账单总额也越大，  \n",
    "同时可以观察到小费金额大部分聚集在2-4之间，账单总额则大部分聚集在10-20之间"
   ]
  },
  {
   "cell_type": "markdown",
   "metadata": {},
   "source": [
    "### （4）分析男性顾客和女性顾客谁更慷慨（柱状图）"
   ]
  },
  {
   "cell_type": "code",
   "execution_count": 135,
   "metadata": {},
   "outputs": [
    {
     "data": {
      "image/png": "[encoded data removed]",
      "text/plain": [
       "<Figure size 640x480 with 1 Axes>"
      ]
     },
     "metadata": {},
     "output_type": "display_data"
    }
   ],
   "source": [
    "man=data[data[\"性别\"]==\"Male\"][\"账单总额\"]\n",
    "women=data[data[\"性别\"]==\"Female\"][\"账单总额\"]\n",
    "\n",
    "x=np.arange(4)\n",
    "\n",
    "plt.bar(x,[man.mean(),man.median(),man.min(),man.max()],width=0.2,label=\"男性\")\n",
    "plt.bar(x+0.2,[women.mean(),women.median(),women.min(),women.max()],width=0.2,label=\"女性\")\n",
    "plt.xticks(x+0.1,labels=[\"平均值\",\"中位数\",\"最小值\",\"最大值\"])\n",
    "plt.title(\"男女性消费比较条形图\")\n",
    "plt.xlabel(\"不同评价指标\")\n",
    "plt.ylabel(\"消费金额\")\n",
    "\n",
    "plt.legend()\n",
    "plt.show()"
   ]
  },
  {
   "cell_type": "markdown",
   "metadata": {},
   "source": [
    "观察条形图可知，从均值，中位数，最小最大值的情况比较来看，男性会比女性慷慨一点\n",
    "### （5）分析日期和小费之间的关系"
   ]
  },
  {
   "cell_type": "code",
   "execution_count": 136,
   "metadata": {},
   "outputs": [
    {
     "name": "stdout",
     "output_type": "stream",
     "text": [
      "[  0.     0.     0.   171.83  51.96 260.4  247.39]\n",
      "[0.         0.         0.         2.77145161 2.73473684 2.99310345\n",
      " 3.25513158]\n"
     ]
    },
    {
     "data": {
      "text/plain": [
       "<matplotlib.legend.Legend at 0x14c83b33fd0>"
      ]
     },
     "execution_count": 136,
     "metadata": {},
     "output_type": "execute_result"
    },
    {
     "data": {
      "image/png": "[encoded data removed]",
      "text/plain": [
       "<Figure size 640x480 with 1 Axes>"
      ]
     },
     "metadata": {},
     "output_type": "display_data"
    }
   ],
   "source": [
    "date=[\"Mon\",\"Tues\",\"Wedn\",\"Thur\",\"Fri\",\"Sat\",\"Sun\"]\n",
    "tips=[]\n",
    "\n",
    "for key in date:\n",
    "    tips.append(data[data[\"星期\"]==key][\"小费\"])\n",
    "\n",
    "tips_mean=[]\n",
    "for oneDay in tips:\n",
    "    tips_mean.append(pd.DataFrame(oneDay).mean())\n",
    "tips_mean=pd.DataFrame(tips_mean).fillna(0)\n",
    "\n",
    "tips_max=[]\n",
    "for oneDay in tips:\n",
    "    tips_max.append(pd.DataFrame(oneDay).max())\n",
    "tips_max=pd.DataFrame(tips_max).fillna(0)\n",
    "\n",
    "tips_min=[]\n",
    "for oneDay in tips:\n",
    "    tips_min.append(pd.DataFrame(oneDay).min())\n",
    "tips_min=pd.DataFrame(tips_min).fillna(0)\n",
    "  \n",
    "tips_sum=pd.DataFrame(tips).sum(1)\n",
    "\n",
    "x=np.arange(7)\n",
    "# pd.DataFrame(tips_mean)\n",
    "# print(np.array(tips_sum),pd.DataFrame(tips_mean).fillna(0))\n",
    "\n",
    "print(np.array(tips_sum))\n",
    "print(np.array(tips_mean).reshape(-1,))\n",
    "\n",
    "# plt.bar(x,np.array(tips_sum),width=0.2,label=\"小费和\")\n",
    "plt.bar(x,np.array(tips_mean).reshape(-1,),width=0.2,label=\"小费均值\")\n",
    "plt.bar(x+0.2,np.array(tips_max).reshape(-1,),width=0.2,label=\"小费最大值\")\n",
    "plt.bar(x+0.4,np.array(tips_min).reshape(-1,),width=0.2,label=\"小费最小值\")\n",
    "\n",
    "plt.xticks(x+0.2,date)\n",
    "plt.xlabel(\"日期\")\n",
    "plt.ylabel(\"小费金额\")\n",
    "plt.title(\"日期与小费均值最大、小值关系图\")\n",
    "\n",
    "plt.legend()\n"
   ]
  },
  {
   "cell_type": "markdown",
   "metadata": {},
   "source": [
    "观察柱状图可知，给消费一般出现在每周的后四天，且随着周末的临近，消费给的金额均值也在变高\n",
    "### （6）\t性别+抽烟的组合因素对慷慨度的影响：（柱状图）"
   ]
  },
  {
   "cell_type": "code",
   "execution_count": 137,
   "metadata": {},
   "outputs": [
    {
     "data": {
      "text/plain": [
       "<matplotlib.legend.Legend at 0x14c83bfab30>"
      ]
     },
     "execution_count": 137,
     "metadata": {},
     "output_type": "execute_result"
    },
    {
     "data": {
      "image/png": "[encoded data removed]",
      "text/plain": [
       "<Figure size 640x480 with 1 Axes>"
      ]
     },
     "metadata": {},
     "output_type": "display_data"
    }
   ],
   "source": [
    "\n",
    "smoke=data[data[\"是否抽烟\"]==\"Yes\"]\n",
    "no_smoke=data[data[\"是否抽烟\"]==\"No\"]\n",
    "\n",
    "man_smoke=smoke[smoke[\"性别\"]==\"Male\"][\"小费\"].mean()\n",
    "woman_smoke=smoke[smoke[\"性别\"]==\"Female\"][\"小费\"].mean()\n",
    "\n",
    "man_no_smoke=no_smoke[no_smoke[\"性别\"]==\"Male\"][\"小费\"].mean()\n",
    "woman_no_smoke=no_smoke[no_smoke[\"性别\"]==\"Female\"][\"小费\"].mean()\n",
    "\n",
    "x=np.arange(2)\n",
    "plt.bar(x,[man_smoke,man_no_smoke],width=0.3,label=\"男性\")\n",
    "plt.bar(x+0.3,[woman_smoke,woman_no_smoke],width=0.3,label=\"女性\")\n",
    "\n",
    "plt.xticks(x+0.15,[\"吸烟\",\"不吸烟\"])\n",
    "\n",
    "plt.legend()"
   ]
  },
  {
   "cell_type": "markdown",
   "metadata": {},
   "source": [
    "观察图像可知，通过是否吸烟以及男女的比较，男性不吸烟的会比吸烟的慷慨，女性吸烟的会比不吸烟的慷慨\n",
    "### （7）分析聚餐时间段与小费数额的关系"
   ]
  },
  {
   "cell_type": "code",
   "execution_count": 138,
   "metadata": {},
   "outputs": [
    {
     "data": {
      "text/plain": [
       "<matplotlib.legend.Legend at 0x14c83b31f90>"
      ]
     },
     "execution_count": 138,
     "metadata": {},
     "output_type": "execute_result"
    },
    {
     "data": {
      "image/png": "[encoded data removed]",
      "text/plain": [
       "<Figure size 640x480 with 1 Axes>"
      ]
     },
     "metadata": {},
     "output_type": "display_data"
    }
   ],
   "source": [
    "lunch=data[data[\"三餐\"]==\"Lunch\"]['小费']\n",
    "dinner=data[data[\"三餐\"]==\"Dinner\"][\"小费\"]\n",
    "\n",
    "x=np.arange(2)\n",
    "plt.bar(x,[lunch.mean(),dinner.mean()],width=0.3,label=\"平均值\")\n",
    "plt.bar(x+0.3,[lunch.max(),dinner.max()],width=0.3,label=\"最大值\")\n",
    "plt.bar(x+0.6,[lunch.min(),dinner.min()],width=0.3,label=\"最小值\")\n",
    "plt.title(\"聚餐时间段与小费的关系\")\n",
    "dataTime=[\"午餐\",\"晚餐\"]\n",
    "plt.xticks(x+0.3,dataTime)\n",
    "\n",
    "plt.legend()"
   ]
  },
  {
   "cell_type": "markdown",
   "metadata": {},
   "source": [
    "观察图像可知，晚餐的小费普遍会比午餐的要高\n",
    "### （8）显示用餐时间time的不重复值"
   ]
  },
  {
   "cell_type": "code",
   "execution_count": 139,
   "metadata": {},
   "outputs": [
    {
     "name": "stdout",
     "output_type": "stream",
     "text": [
      "['Dinner' 'Lunch']\n"
     ]
    }
   ],
   "source": [
    "timeNoRepeat=data[\"三餐\"]\n",
    "print(timeNoRepeat.unique())"
   ]
  },
  {
   "cell_type": "markdown",
   "metadata": {},
   "source": [
    "### （9）修改拼写错误的字段值\n",
    "初始给的数据是完整的，因此首先导入老师后面发的有缺省的数据"
   ]
  },
  {
   "cell_type": "code",
   "execution_count": 140,
   "metadata": {},
   "outputs": [
    {
     "name": "stdout",
     "output_type": "stream",
     "text": [
      "tatal_bill    3\n",
      "tip           3\n",
      "sex           2\n",
      "smoker        0\n",
      "day           0\n",
      "time          2\n",
      "size          3\n",
      "dtype: int64\n"
     ]
    },
    {
     "data": {
      "text/html": [
       "<div>\n",
       "<style scoped>\n",
       "    .dataframe tbody tr th:only-of-type {\n",
       "        vertical-align: middle;\n",
       "    }\n",
       "\n",
       "    .dataframe tbody tr th {\n",
       "        vertical-align: top;\n",
       "    }\n",
       "\n",
       "    .dataframe thead th {\n",
       "        text-align: right;\n",
       "    }\n",
       "</style>\n",
       "<table border=\"1\" class=\"dataframe\">\n",
       "  <thead>\n",
       "    <tr style=\"text-align: right;\">\n",
       "      <th></th>\n",
       "      <th>tatal_bill</th>\n",
       "      <th>tip</th>\n",
       "      <th>sex</th>\n",
       "      <th>smoker</th>\n",
       "      <th>day</th>\n",
       "      <th>time</th>\n",
       "      <th>size</th>\n",
       "    </tr>\n",
       "  </thead>\n",
       "  <tbody>\n",
       "    <tr>\n",
       "      <th>0</th>\n",
       "      <td>16.99</td>\n",
       "      <td>1.01</td>\n",
       "      <td>Female</td>\n",
       "      <td>No</td>\n",
       "      <td>Sun</td>\n",
       "      <td>Dinner</td>\n",
       "      <td>2.0</td>\n",
       "    </tr>\n",
       "    <tr>\n",
       "      <th>1</th>\n",
       "      <td>10.34</td>\n",
       "      <td>1.66</td>\n",
       "      <td>Male</td>\n",
       "      <td>No</td>\n",
       "      <td>Sun</td>\n",
       "      <td>Dinner</td>\n",
       "      <td>3.0</td>\n",
       "    </tr>\n",
       "    <tr>\n",
       "      <th>2</th>\n",
       "      <td>21.01</td>\n",
       "      <td>3.50</td>\n",
       "      <td>Male</td>\n",
       "      <td>No</td>\n",
       "      <td>Sun</td>\n",
       "      <td>Dinner</td>\n",
       "      <td>3.0</td>\n",
       "    </tr>\n",
       "    <tr>\n",
       "      <th>3</th>\n",
       "      <td>23.68</td>\n",
       "      <td>3.31</td>\n",
       "      <td>Male</td>\n",
       "      <td>No</td>\n",
       "      <td>Sun</td>\n",
       "      <td>Dinner</td>\n",
       "      <td>2.0</td>\n",
       "    </tr>\n",
       "    <tr>\n",
       "      <th>4</th>\n",
       "      <td>24.59</td>\n",
       "      <td>3.61</td>\n",
       "      <td>Female</td>\n",
       "      <td>No</td>\n",
       "      <td>Sun</td>\n",
       "      <td>Dinner</td>\n",
       "      <td>4.0</td>\n",
       "    </tr>\n",
       "  </tbody>\n",
       "</table>\n",
       "</div>"
      ],
      "text/plain": [
       "   tatal_bill   tip     sex smoker  day    time  size\n",
       "0       16.99  1.01  Female     No  Sun  Dinner   2.0\n",
       "1       10.34  1.66    Male     No  Sun  Dinner   3.0\n",
       "2       21.01  3.50    Male     No  Sun  Dinner   3.0\n",
       "3       23.68  3.31    Male     No  Sun  Dinner   2.0\n",
       "4       24.59  3.61  Female     No  Sun  Dinner   4.0"
      ]
     },
     "execution_count": 140,
     "metadata": {},
     "output_type": "execute_result"
    }
   ],
   "source": [
    "data=pd.read_excel(\"./tips_mod.xls\")\n",
    "print(data.isnull().sum())\n",
    "data.head()\n"
   ]
  },
  {
   "cell_type": "code",
   "execution_count": 141,
   "metadata": {},
   "outputs": [
    {
     "name": "stdout",
     "output_type": "stream",
     "text": [
      "['Female' 'Male' nan]\n",
      "['No' 'Yes']\n",
      "['Sun' 'Sat' 'Thur' 'Fri']\n",
      "['Dinner' 'Diner' 'Dier' 'Lunch' nan]\n"
     ]
    }
   ],
   "source": [
    "print(data[\"sex\"].unique())\n",
    "print(data[\"smoker\"].unique())\n",
    "print(data[\"day\"].unique())\n",
    "print(data[\"time\"].unique())"
   ]
  },
  {
   "cell_type": "markdown",
   "metadata": {},
   "source": [
    "可以看出，time列中有拼写错误的情况，因此对拼写错误数据进行改正。"
   ]
  },
  {
   "cell_type": "code",
   "execution_count": 142,
   "metadata": {},
   "outputs": [
    {
     "name": "stdout",
     "output_type": "stream",
     "text": [
      "['Dinner' 'Lunch' nan]\n"
     ]
    }
   ],
   "source": [
    "data.replace(\"Diner\",\"Dinner\",inplace=True)\n",
    "data.replace(\"Dier\",\"Dinner\",inplace=True)\n",
    "print(data[\"time\"].unique())"
   ]
  },
  {
   "cell_type": "markdown",
   "metadata": {},
   "source": [
    "经过修改，数据拼写正确\n",
    "### （10）检测数据中的缺失值"
   ]
  },
  {
   "cell_type": "code",
   "execution_count": 143,
   "metadata": {},
   "outputs": [
    {
     "name": "stdout",
     "output_type": "stream",
     "text": [
      "tatal_bill    3\n",
      "tip           3\n",
      "sex           2\n",
      "smoker        0\n",
      "day           0\n",
      "time          2\n",
      "size          3\n",
      "dtype: int64\n"
     ]
    }
   ],
   "source": [
    "print(data.isnull().sum())"
   ]
  },
  {
   "cell_type": "markdown",
   "metadata": {},
   "source": [
    "通过isnull函数可以看见各数据中的缺失值情况"
   ]
  },
  {
   "cell_type": "markdown",
   "metadata": {},
   "source": [
    "### （11）删除一行内有两个缺失值的数据"
   ]
  },
  {
   "cell_type": "code",
   "execution_count": 144,
   "metadata": {},
   "outputs": [
    {
     "name": "stdout",
     "output_type": "stream",
     "text": [
      "删除前      tatal_bill   tip     sex smoker   day    time  size\n",
      "238       35.83  4.67     NaN     No   Sat  Dinner   NaN\n",
      "243       18.78   NaN  Female     No  Thur     NaN   2.0\n",
      "删除后 Empty DataFrame\n",
      "Columns: [tatal_bill, tip, sex, smoker, day, time, size]\n",
      "Index: []\n"
     ]
    }
   ],
   "source": [
    "rowDefault=data.isnull().sum(axis=1)\n",
    "print(\"删除前\",data.loc[rowDefault==2,:])\n",
    "data.drop(data.loc[rowDefault==2,:].index,inplace=True)\n",
    "print(\"删除后\",data.loc[rowDefault==2,:])"
   ]
  },
  {
   "cell_type": "markdown",
   "metadata": {},
   "source": [
    "### （12）删除sex或time为空的行"
   ]
  },
  {
   "cell_type": "code",
   "execution_count": 145,
   "metadata": {},
   "outputs": [
    {
     "name": "stdout",
     "output_type": "stream",
     "text": [
      "删除前      tatal_bill   tip   sex smoker  day    time  size\n",
      "236       12.60  1.00   NaN    Yes  Sat  Dinner   2.0\n",
      "242       17.82  1.75  Male     No  Sat     NaN   2.0\n",
      "删除后 Empty DataFrame\n",
      "Columns: [tatal_bill, tip, sex, smoker, day, time, size]\n",
      "Index: []\n"
     ]
    }
   ],
   "source": [
    "rowDefault=data[\"sex\"].isnull() | data[\"time\"].isnull()\n",
    "print(\"删除前\",data.loc[rowDefault,:])\n",
    "data.drop(data.loc[rowDefault].index,inplace=True)\n",
    "print(\"删除后\",data.loc[rowDefault,:])"
   ]
  },
  {
   "cell_type": "markdown",
   "metadata": {},
   "source": [
    "### （13）对剩余有空缺的数据用平均值替换"
   ]
  },
  {
   "cell_type": "code",
   "execution_count": 146,
   "metadata": {},
   "outputs": [
    {
     "name": "stdout",
     "output_type": "stream",
     "text": [
      "目前空缺情况 tatal_bill    3\n",
      "tip           2\n",
      "sex           0\n",
      "smoker        0\n",
      "day           0\n",
      "time          0\n",
      "size          2\n",
      "dtype: int64\n",
      "填补后 tatal_bill    0\n",
      "tip           0\n",
      "sex           0\n",
      "smoker        0\n",
      "day           0\n",
      "time          0\n",
      "size          0\n",
      "dtype: int64\n"
     ]
    }
   ],
   "source": [
    "print(\"目前空缺情况\",data.isnull().sum())\n",
    "for column in list(data.columns[data.isnull().sum()>0]):\n",
    "    mean_val=data[column].mean()\n",
    "    data[column].fillna(mean_val,inplace=True)\n",
    "print(\"填补后\",data.isnull().sum())"
   ]
  }
 ],
 "metadata": {
  "kernelspec": {
   "display_name": "Python 3.10.4 64-bit",
   "language": "python",
   "name": "python3"
  },
  "language_info": {
   "codemirror_mode": {
    "name": "ipython",
    "version": 3
   },
   "file_extension": ".py",
   "mimetype": "text/x-python",
   "name": "python",
   "nbconvert_exporter": "python",
   "pygments_lexer": "ipython3",
   "version": "3.10.4"
  },
  "orig_nbformat": 4,
  "vscode": {
   "interpreter": {
    "hash": "08f6edec437538b5993be24a8d19dd1bd66f0a7ae79d727201cebd80cd580c21"
   }
  }
 },
 "nbformat": 4,
 "nbformat_minor": 2
}
