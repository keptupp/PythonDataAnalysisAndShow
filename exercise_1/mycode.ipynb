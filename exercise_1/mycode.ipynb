{
 "cells": [
  {
   "cell_type": "markdown",
   "metadata": {},
   "source": [
    "# 读取白酒的数据"
   ]
  },
  {
   "cell_type": "code",
   "execution_count": 8,
   "metadata": {},
   "outputs": [
    {
     "name": "stdout",
     "output_type": "stream",
     "text": [
      "前5行的数据是\n",
      "['fixed acidity', 'volatile acidity', 'citric acid', 'residual sugar', 'chlorides', 'free sulfur dioxide', 'total sulfur dioxide', 'density', 'pH', 'sulphates', 'alcohol', 'quality']\n",
      "['7', '0.27', '0.36', '20.7', '0.045', '45', '170', '1.001', '3', '0.45', '8.8', '6']\n",
      "['8.1', '0.28', '0.4', '6.9', '0.05', '30', '97', '0.9951', '3.26', '0.44', '10.1', '6']\n",
      "['7.2', '0.23', '0.32', '8.5', '0.058', '47', '186', '0.9956', '3.19', '0.4', '9.9', '6']\n",
      "['7.2', '0.23', '0.32', '8.5', '0.058', '47', '186', '0.9956', '3.19', '0.4', '9.9', '6']\n"
     ]
    }
   ],
   "source": [
    "import csv\n",
    "\n",
    "#读取csv文件\n",
    "f=open('white_wine.csv')\n",
    "reader=csv.reader(f)\n",
    "data=[]\n",
    "for i in reader:\n",
    "    data.append(i)\n",
    "f.close()\n",
    "\n",
    "#展示前5行\n",
    "print('前5行的数据是')\n",
    "for i in range(5):\n",
    "    print(data[i])"
   ]
  },
  {
   "cell_type": "markdown",
   "metadata": {},
   "source": [
    "# 处理数据\n",
    "### 查看白酒有几种品质等级\n"
   ]
  },
  {
   "cell_type": "code",
   "execution_count": 14,
   "metadata": {},
   "outputs": [
    {
     "name": "stdout",
     "output_type": "stream",
     "text": [
      "白酒品质等级有7种，分别是{'4', '5', '8', '6', '3', '7', '9'}\n"
     ]
    }
   ],
   "source": [
    "#就是读取最后一列，看有几种不重复的数\n",
    "\n",
    "quality_allliat=[]\n",
    "for i in data[1:]:\n",
    "    quality_allliat.append(i[-1])\n",
    "quality_list=set(quality_allliat)\n",
    "\n",
    "print(\"白酒品质等级有%d种，分别是%r\"%(len(quality_list),quality_list))"
   ]
  },
  {
   "cell_type": "markdown",
   "metadata": {},
   "source": [
    "### 统计种品质等级的数量"
   ]
  },
  {
   "cell_type": "code",
   "execution_count": 27,
   "metadata": {},
   "outputs": [
    {
     "name": "stdout",
     "output_type": "stream",
     "text": [
      "{'4': 115, '5': 1020, '8': 123, '6': 1539, '3': 14, '7': 616, '9': 4}\n"
     ]
    }
   ],
   "source": [
    "quality_nums={}\n",
    "for i in quality_list:\n",
    "    quality_nums[str(i)]=0\n",
    "\n",
    "for i in data[1:]:\n",
    "    quality_nums[str(i[-1])]+=1\n",
    "print(quality_nums)\n"
   ]
  },
  {
   "cell_type": "markdown",
   "metadata": {},
   "source": [
    "### 计算每个数据集中fixed acidity的均值"
   ]
  },
  {
   "cell_type": "code",
   "execution_count": 33,
   "metadata": {},
   "outputs": [
    {
     "name": "stdout",
     "output_type": "stream",
     "text": [
      "{'4': 7.052173913043476, '5': 6.907843137254891, '8': 6.708130081300811, '6': 6.812085769980511, '3': 7.535714285714286, '7': 6.755844155844158, '9': 7.5}\n"
     ]
    }
   ],
   "source": [
    "fixed_acidity_total={}\n",
    "for i in quality_list:\n",
    "    fixed_acidity_total[str(i)]=0\n",
    "for i in data[1:]:\n",
    "    fixed_acidity_total[str(i[-1])]+=float(i[0])\n",
    "fixed_acidity_average={}\n",
    "for i in fixed_acidity_total:\n",
    "    fixed_acidity_average[i]=fixed_acidity_total[i]/quality_nums[i]\n",
    "print(fixed_acidity_average)"
   ]
  },
  {
   "cell_type": "markdown",
   "metadata": {},
   "source": [
    "# 总结\n",
    "通过本次实验，学习了如何使用csv库读取csv格式的文件，同时也学会了python的循环结构。\n",
    "学会了使用append向数组中添加元素，也学会了用字典来记录不同类型的数据的值。\n",
    "学会了使用set方法来去除元素中重复的数值。\n",
    "学会了基本的数据统计方法，通过循环遍历数组，来得到我们所需要的求和数据。"
   ]
  }
 ],
 "metadata": {
  "kernelspec": {
   "display_name": "Python 3.9.12 64-bit",
   "language": "python",
   "name": "python3"
  },
  "language_info": {
   "codemirror_mode": {
    "name": "ipython",
    "version": 3
   },
   "file_extension": ".py",
   "mimetype": "text/x-python",
   "name": "python",
   "nbconvert_exporter": "python",
   "pygments_lexer": "ipython3",
   "version": "3.9.12"
  },
  "orig_nbformat": 4,
  "vscode": {
   "interpreter": {
    "hash": "1daca1ebfa99d363f49187de6dd878fa6001e85bc2f160c60bcd81d0df0caa1e"
   }
  }
 },
 "nbformat": 4,
 "nbformat_minor": 2
}
