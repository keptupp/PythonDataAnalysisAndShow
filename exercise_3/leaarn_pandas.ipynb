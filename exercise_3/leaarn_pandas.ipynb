{
 "cells": [
  {
   "cell_type": "markdown",
   "metadata": {},
   "source": [
    "导入pandas"
   ]
  },
  {
   "cell_type": "code",
   "execution_count": 1,
   "metadata": {},
   "outputs": [],
   "source": [
    "import pandas as pd"
   ]
  },
  {
   "cell_type": "markdown",
   "metadata": {},
   "source": [
    "Series的创建"
   ]
  },
  {
   "cell_type": "code",
   "execution_count": 3,
   "metadata": {},
   "outputs": [
    {
     "name": "stdout",
     "output_type": "stream",
     "text": [
      "0    1\n",
      "1    2\n",
      "2    3\n",
      "3    4\n",
      "4    5\n",
      "dtype: int64\n"
     ]
    }
   ],
   "source": [
    "obj=pd.Series([1,2,3,4,5])\n",
    "print(obj)"
   ]
  },
  {
   "cell_type": "markdown",
   "metadata": {},
   "source": [
    "创建Series时指定索引"
   ]
  },
  {
   "cell_type": "code",
   "execution_count": 4,
   "metadata": {},
   "outputs": [
    {
     "name": "stdout",
     "output_type": "stream",
     "text": [
      "a    1\n",
      "b    2\n",
      "c    3\n",
      "d    4\n",
      "e    5\n",
      "Name: 指定索引, dtype: int64\n"
     ]
    }
   ],
   "source": [
    "index=[\"a\",\"b\",\"c\",\"d\",\"e\"]\n",
    "arr=[1,2,3,4,5]\n",
    "t=pd.Series(arr,index=index,name=\"指定索引\")\n",
    "print(t)"
   ]
  },
  {
   "cell_type": "markdown",
   "metadata": {},
   "source": [
    "Serices位置和标签的使用"
   ]
  },
  {
   "cell_type": "code",
   "execution_count": 5,
   "metadata": {},
   "outputs": [
    {
     "name": "stdout",
     "output_type": "stream",
     "text": [
      "RangeIndex(start=0, stop=4, step=1)\n",
      "RangeIndex(start=10, stop=14, step=1)\n",
      "Index(['hello', 'the', 'cruel', 'world'], dtype='object')\n",
      "####################\n",
      "2\n",
      "2\n",
      "下标： 2 ,标签： 2\n"
     ]
    }
   ],
   "source": [
    "val=[2,4,5,6]\n",
    "index_1=range(10,14)\n",
    "index_2=\"hello the cruel world\".split()\n",
    "val_S=pd.Series(val)\n",
    "index_1_S=pd.Series(val,index=index_1)\n",
    "index_2_S=pd.Series(val,index=index_2)\n",
    "\n",
    "print(val_S.index)\n",
    "print(index_1_S.index)\n",
    "print(index_2_S.index)\n",
    "print(\"####################\")\n",
    "print(val_S[0])\n",
    "print(index_1_S[10])\n",
    "print(\"下标：\",index_2_S[0],\",标签：\",index_2_S[\"hello\"])"
   ]
  },
  {
   "cell_type": "markdown",
   "metadata": {},
   "source": [
    "通过字典创建"
   ]
  },
  {
   "cell_type": "code",
   "execution_count": 6,
   "metadata": {},
   "outputs": [
    {
     "name": "stdout",
     "output_type": "stream",
     "text": [
      "太    4\n",
      "你    3\n",
      "只    1\n",
      "美    5\n",
      "因    2\n",
      "dtype: int64\n"
     ]
    }
   ],
   "source": [
    "dir={\"太\":4,\"你\":3,\"只\":1,\"美\":5,\"因\":2}\n",
    "dir_S=pd.Series(dir)\n",
    "print(dir_S)"
   ]
  },
  {
   "cell_type": "markdown",
   "metadata": {},
   "source": [
    "字典值缺省"
   ]
  },
  {
   "cell_type": "code",
   "execution_count": 7,
   "metadata": {},
   "outputs": [
    {
     "name": "stdout",
     "output_type": "stream",
     "text": [
      "只    1.0\n",
      "因    2.0\n",
      "你    3.0\n",
      "太    4.0\n",
      "美    NaN\n",
      "dtype: float64\n"
     ]
    }
   ],
   "source": [
    "dir_default={\"太\":4,\"你\":3,\"只\":1,\"因\":2}\n",
    "dir_key=[\"只\",\"因\",\"你\",\"太\",\"美\"]\n",
    "dir_key_default=pd.Series(dir_default,index=dir_key)\n",
    "print(dir_key_default)"
   ]
  },
  {
   "cell_type": "markdown",
   "metadata": {},
   "source": [
    "不同索引数据自动对齐"
   ]
  },
  {
   "cell_type": "code",
   "execution_count": 2,
   "metadata": {},
   "outputs": [
    {
     "name": "stdout",
     "output_type": "stream",
     "text": [
      "five     NaN\n",
      "four     NaN\n",
      "one      2.0\n",
      "six      NaN\n",
      "three    6.0\n",
      "two      4.0\n",
      "dtype: float64\n"
     ]
    }
   ],
   "source": [
    "dir_index_align={\"one\":1,\"two\":2,\"three\":3,\"four\":4,\"five\":5}\n",
    "key_align=[\"one\",\"two\",\"three\",\"six\"]\n",
    "\n",
    "obj_11=pd.Series(dir_index_align)\n",
    "obj_22=pd.Series(dir_index_align,index=key_align)\n",
    "print(obj_11+obj_22)"
   ]
  },
  {
   "cell_type": "markdown",
   "metadata": {},
   "source": [
    "Series索引的修改"
   ]
  },
  {
   "cell_type": "code",
   "execution_count": 3,
   "metadata": {},
   "outputs": [
    {
     "name": "stdout",
     "output_type": "stream",
     "text": [
      "one      1\n",
      "two      2\n",
      "three    3\n",
      "four     4\n",
      "five     5\n",
      "dtype: int64\n"
     ]
    }
   ],
   "source": [
    "obj_index_revise=pd.Series([1,2,3,4,5])\n",
    "obj_index_revise.index=[\"one\",\"two\",\"three\",\"four\",\"five\"]\n",
    "print(obj_index_revise)"
   ]
  },
  {
   "cell_type": "markdown",
   "metadata": {},
   "source": [
    "DataFrame数据结构  \n",
    "DataFrame数据结构的创建"
   ]
  },
  {
   "cell_type": "code",
   "execution_count": null,
   "metadata": {},
   "outputs": [],
   "source": [
    "data={\n",
    "    name:[\"z\"]\n",
    "}"
   ]
  }
 ],
 "metadata": {
  "kernelspec": {
   "display_name": "Python 3.9.12 64-bit",
   "language": "python",
   "name": "python3"
  },
  "language_info": {
   "codemirror_mode": {
    "name": "ipython",
    "version": 3
   },
   "file_extension": ".py",
   "mimetype": "text/x-python",
   "name": "python",
   "nbconvert_exporter": "python",
   "pygments_lexer": "ipython3",
   "version": "3.9.12"
  },
  "orig_nbformat": 4,
  "vscode": {
   "interpreter": {
    "hash": "1daca1ebfa99d363f49187de6dd878fa6001e85bc2f160c60bcd81d0df0caa1e"
   }
  }
 },
 "nbformat": 4,
 "nbformat_minor": 2
}
